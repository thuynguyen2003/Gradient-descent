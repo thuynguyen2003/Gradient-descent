{
  "nbformat": 4,
  "nbformat_minor": 0,
  "metadata": {
    "colab": {
      "name": "Gradient descent",
      "provenance": [],
      "collapsed_sections": [],
      "authorship_tag": "ABX9TyMNTHTB9KC6i6nbgy2Ma5qF",
      "include_colab_link": true
    },
    "kernelspec": {
      "name": "python3",
      "display_name": "Python 3"
    },
    "language_info": {
      "name": "python"
    },
    "accelerator": "GPU",
    "gpuClass": "standard"
  },
  "cells": [
    {
      "cell_type": "markdown",
      "metadata": {
        "id": "view-in-github",
        "colab_type": "text"
      },
      "source": [
        "<a href=\"https://colab.research.google.com/github/thuynguyen2003/Gradient-descent/blob/main/Gradient_descent.ipynb\" target=\"_parent\"><img src=\"https://colab.research.google.com/assets/colab-badge.svg\" alt=\"Open In Colab\"/></a>"
      ]
    },
    {
      "cell_type": "code",
      "source": [
        "from __future__ import division, print_function, unicode_literals\n",
        "import math\n",
        "import numpy as np \n",
        "import matplotlib.pyplot as plt\n",
        "def grad(x):\n",
        "    return 2*x+ 5*np.cos(x)\n",
        "\n",
        "def cost(x):\n",
        "    return x**2 + 5*np.sin(x)\n",
        "\n",
        "def myGD1(eta, x0):\n",
        "    x = [x0]\n",
        "    for it in range(100):\n",
        "        x_new = x[-1] - eta*grad(x[-1])\n",
        "        if abs(grad(x_new)) < 1e-3:\n",
        "            break\n",
        "        x.append(x_new)\n",
        "    return (x, it)\n",
        "(x1, it1) = myGD1(.1, -5)\n",
        "(x2, it2) = myGD1(.1, 5)\n",
        "print('Solution x1 = %f, cost = %f, obtained after %d iterations'%(x1[-1], cost(x1[-1]), it1))\n",
        "print('Solution x2 = %f, cost = %f, obtained after %d iterations'%(x2[-1], cost(x2[-1]), it2))"
      ],
      "metadata": {
        "colab": {
          "base_uri": "https://localhost:8080/"
        },
        "id": "chpHV2ZdsjcH",
        "outputId": "5d9b5695-01cd-480d-9dc7-b4827b528666"
      },
      "execution_count": null,
      "outputs": [
        {
          "output_type": "stream",
          "name": "stdout",
          "text": [
            "Solution x1 = -1.110667, cost = -3.246394, obtained after 11 iterations\n",
            "Solution x2 = -1.110341, cost = -3.246394, obtained after 29 iterations\n"
          ]
        }
      ]
    }
  ]
}